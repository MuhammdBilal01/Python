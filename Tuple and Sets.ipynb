{
 "cells": [
  {
   "cell_type": "markdown",
   "metadata": {},
   "source": [
    "# 1. Tuple (Unmutable)"
   ]
  },
  {
   "cell_type": "code",
   "execution_count": 3,
   "metadata": {},
   "outputs": [
    {
     "name": "stdout",
     "output_type": "stream",
     "text": [
      "('Arham', 123)\n",
      "<class 'tuple'>\n"
     ]
    }
   ],
   "source": [
    "myTuple = (\"Arham\", 123)\n",
    "print(myTuple)\n",
    "print(type(myTuple))"
   ]
  },
  {
   "cell_type": "markdown",
   "metadata": {},
   "source": [
    "## 1.1. Unpacking Tuple"
   ]
  },
  {
   "cell_type": "code",
   "execution_count": 4,
   "metadata": {},
   "outputs": [
    {
     "name": "stdout",
     "output_type": "stream",
     "text": [
      "('ab', 'bc', 'ca')\n"
     ]
    }
   ],
   "source": [
    "myTuple = (\"ab\", \"bc\", \"ca\")\n",
    "(green, red, blue)=myTuple\n",
    "print(myTuple)"
   ]
  },
  {
   "cell_type": "markdown",
   "metadata": {},
   "source": [
    "## 1.2. Unpacking Tuple"
   ]
  },
  {
   "cell_type": "code",
   "execution_count": 7,
   "metadata": {},
   "outputs": [
    {
     "name": "stdout",
     "output_type": "stream",
     "text": [
      "ab ['bc', 'ca', 'gh', 'xy']\n"
     ]
    }
   ],
   "source": [
    "myTuple = (\"ab\", \"bc\", \"ca\", \"gh\", \"xy\")\n",
    "(green, *red)=myTuple\n",
    "print(green, red)"
   ]
  },
  {
   "cell_type": "markdown",
   "metadata": {},
   "source": [
    "## 1.3. Unpacking Tuple (with mutation)"
   ]
  },
  {
   "cell_type": "code",
   "execution_count": 12,
   "metadata": {},
   "outputs": [
    {
     "name": "stdout",
     "output_type": "stream",
     "text": [
      "(1, 2, 3, 4, 5, 6, 7, 7, 2)\n",
      "[1, 2, 3, 4, 5, 6, 7, 2]\n",
      "(1, 2, 3, 4, 5, 6, 7, 2)\n"
     ]
    }
   ],
   "source": [
    "#How to add and remove from tuple\n",
    "myTuple = (1,2,3,4,5,6,7,7,2)\n",
    "print(myTuple)\n",
    "temp = list(myTuple)\n",
    "temp.remove(7)\n",
    "print(temp)\n",
    "myTuple = tuple(temp)\n",
    "print(myTuple)\n"
   ]
  },
  {
   "cell_type": "markdown",
   "metadata": {},
   "source": [
    "## 1.3. Delete and Append in Tuple"
   ]
  },
  {
   "cell_type": "code",
   "execution_count": 15,
   "metadata": {},
   "outputs": [
    {
     "name": "stdout",
     "output_type": "stream",
     "text": [
      "('ab', 'bc', 'ca', 'gh', 'xy')\n",
      "('ab', 'bc', 'gh', 'xy', 'rs')\n"
     ]
    }
   ],
   "source": [
    "myTuple = (\"ab\", \"bc\", \"ca\", \"gh\", \"xy\")\n",
    "print(myTuple)\n",
    "temp = list(myTuple)\n",
    "del temp[2]\n",
    "temp.append(\"rs\")\n",
    "myTuple = tuple(temp)\n",
    "print(myTuple)"
   ]
  },
  {
   "cell_type": "code",
   "execution_count": 27,
   "metadata": {},
   "outputs": [
    {
     "name": "stdout",
     "output_type": "stream",
     "text": [
      "1 2 [3, 4, 5, 6, 7, 8, 9, 10, 11, 12, 13, 14, 15, 16, 17, 18, 19, 20]\n"
     ]
    }
   ],
   "source": [
    "tuple1 = (1,2,3,4,5,6,7,8,9,10,11,12,13,14,15,16,17,18,19,20)\n",
    "(green,red,*yellow)=tuple1\n",
    "print(green,red,yellow)"
   ]
  },
  {
   "cell_type": "markdown",
   "metadata": {},
   "source": [
    "## 1.4.  If - Using Tuple"
   ]
  },
  {
   "cell_type": "code",
   "execution_count": 28,
   "metadata": {},
   "outputs": [
    {
     "name": "stdout",
     "output_type": "stream",
     "text": [
      "Found\n"
     ]
    }
   ],
   "source": [
    "tuple1 = (1,2,3,4,5,6,7,8,9,10)\n",
    "\n",
    "if 6 in tuple1:\n",
    "    print(\"Found\")\n",
    "else:\n",
    "    print(\"Not Found\")\n",
    "    "
   ]
  },
  {
   "cell_type": "markdown",
   "metadata": {},
   "source": [
    "## 1.5. Type of Tuple"
   ]
  },
  {
   "cell_type": "code",
   "execution_count": 38,
   "metadata": {},
   "outputs": [
    {
     "name": "stdout",
     "output_type": "stream",
     "text": [
      "<class 'tuple'>\n"
     ]
    }
   ],
   "source": [
    "tuple1 = (1, )\n",
    "print(type(tuple1))"
   ]
  },
  {
   "cell_type": "markdown",
   "metadata": {},
   "source": [
    "# 2. Sets"
   ]
  },
  {
   "cell_type": "code",
   "execution_count": 34,
   "metadata": {},
   "outputs": [
    {
     "name": "stdout",
     "output_type": "stream",
     "text": [
      "{1, 2, 3, 4} {False, True} {'Ali', 'Student', 'male', 12334}\n",
      "{'Ali', 'Student', 'male'}\n",
      "{1, 2, 3, 4, 10}\n"
     ]
    }
   ],
   "source": [
    "s0 = {1,2,3,4}\n",
    "s1 = {True,1,False,0}\n",
    "s2 = {\"Ali\", \"male\", \"Student\", 12334, \"male\"}\n",
    "print(s0,s1,s2)\n",
    "\n",
    "#dicard method to delete\n",
    "s2.discard(12334)\n",
    "print(s2)\n",
    "s0.add(10)\n",
    "print(s0)"
   ]
  },
  {
   "cell_type": "markdown",
   "metadata": {},
   "source": [
    "## 2.1. Union and Intersection "
   ]
  },
  {
   "cell_type": "code",
   "execution_count": 37,
   "metadata": {},
   "outputs": [
    {
     "name": "stdout",
     "output_type": "stream",
     "text": [
      "{1, 2, 3, 4, 5, 6, 9}\n",
      "{3}\n"
     ]
    }
   ],
   "source": [
    "s1 = {1,2,3,4}\n",
    "s2 = {3,5,6,9}\n",
    "s3 = s2.union(s1)    #we can use '|' for union\n",
    "print(s3)\n",
    "\n",
    "s4 = s2.intersection(s1) #we can use '&' for intersection\n",
    "print(s4)"
   ]
  },
  {
   "cell_type": "markdown",
   "metadata": {},
   "source": [
    "## 2.2. Difference and Symetric Difference"
   ]
  },
  {
   "cell_type": "code",
   "execution_count": 40,
   "metadata": {},
   "outputs": [
    {
     "name": "stdout",
     "output_type": "stream",
     "text": [
      "{1, 2, 4}\n",
      "{1, 2, 4, 5, 6, 9}\n"
     ]
    }
   ],
   "source": [
    "s1 = {1,2,3,4}\n",
    "s2 = {3,5,6,9}\n",
    "\n",
    "s3 = s1.difference(s2)    #we can user '-' for difference\n",
    "print(s3)\n",
    "s4 = s1.symmetric_difference(s2)    #we can user '^' for symetric difference\n",
    "print(s4)"
   ]
  },
  {
   "cell_type": "code",
   "execution_count": null,
   "metadata": {},
   "outputs": [],
   "source": []
  }
 ],
 "metadata": {
  "kernelspec": {
   "display_name": "Python 3",
   "language": "python",
   "name": "python3"
  },
  "language_info": {
   "codemirror_mode": {
    "name": "ipython",
    "version": 3
   },
   "file_extension": ".py",
   "mimetype": "text/x-python",
   "name": "python",
   "nbconvert_exporter": "python",
   "pygments_lexer": "ipython3",
   "version": "3.6.5"
  }
 },
 "nbformat": 4,
 "nbformat_minor": 2
}
