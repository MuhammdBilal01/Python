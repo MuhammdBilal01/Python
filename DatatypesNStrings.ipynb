{
 "cells": [
  {
   "cell_type": "markdown",
   "metadata": {},
   "source": [
    "# Primitive Datatype"
   ]
  },
  {
   "cell_type": "markdown",
   "metadata": {},
   "source": [
    "## 1. Integers"
   ]
  },
  {
   "cell_type": "code",
   "execution_count": 1,
   "metadata": {},
   "outputs": [
    {
     "name": "stdout",
     "output_type": "stream",
     "text": [
      "5\n"
     ]
    }
   ],
   "source": [
    "x = 2 \n",
    "y = 3 \n",
    "sum = x + y\n",
    "print(sum)"
   ]
  },
  {
   "cell_type": "markdown",
   "metadata": {},
   "source": [
    "## 2. Float"
   ]
  },
  {
   "cell_type": "code",
   "execution_count": 2,
   "metadata": {},
   "outputs": [
    {
     "name": "stdout",
     "output_type": "stream",
     "text": [
      "Enter your CGPA: 2.0\n",
      "2.0\n"
     ]
    }
   ],
   "source": [
    "cgpa = float(input(\"Enter your CGPA: \"))\n",
    "print(cgpa)"
   ]
  },
  {
   "cell_type": "markdown",
   "metadata": {},
   "source": [
    "## 3. Boolean"
   ]
  },
  {
   "cell_type": "code",
   "execution_count": 15,
   "metadata": {},
   "outputs": [
    {
     "name": "stdout",
     "output_type": "stream",
     "text": [
      "Enter your age: 18\n",
      "isEligible: True\n"
     ]
    }
   ],
   "source": [
    "age = int(input(\"Enter your age: \"))\n",
    "isEligible = age >= 18\n",
    "print(\"isEligible:\",isEligible)"
   ]
  },
  {
   "cell_type": "markdown",
   "metadata": {},
   "source": [
    "# Strings  "
   ]
  },
  {
   "cell_type": "markdown",
   "metadata": {},
   "source": [
    "## 1. String Methods"
   ]
  },
  {
   "cell_type": "code",
   "execution_count": 56,
   "metadata": {},
   "outputs": [
    {
     "name": "stdout",
     "output_type": "stream",
     "text": [
      "u\n",
      "9\n",
      "9\n",
      "['Go', 'ahead,', 'make', 'my', 'day.']\n",
      "['Go ahead, ', ' my day.']\n",
      "4\n",
      "False\n",
      "<class 'str'>\n",
      "True\n",
      "False\n",
      "False\n",
      "True\n",
      "HELLO, world\n",
      "False\n",
      "True\n",
      "Muhammad\n",
      "Muhammad Bilal\n",
      "laliB dammahuM\n",
      "True\n",
      "b'Go ahead, make my day.'\n"
     ]
    }
   ],
   "source": [
    "name = \"Muhammad Bilal\"\n",
    "qoute = \"Go ahead, make my day.\"\n",
    "allCaps = \"HELLO, WORLD\"\n",
    "allLows = \"hello, world\"\n",
    "num = \"123\"\n",
    "print(name[1])\n",
    "print(name.find(\"Bilal\"))\n",
    "print(name.index(\"Bilal\"))\n",
    "print(qoute.split())\n",
    "print(qoute.split(\"make\"))\n",
    "print(qoute.count(\"a\"))\n",
    "print(name.isdigit())\n",
    "print(type(name))\n",
    "print(allLows.islower())\n",
    "print(allCaps.islower())\n",
    "print(name.isupper())\n",
    "print(allCaps.isupper())\n",
    "print(allLows.replace(\"hello\", \"HELLO\"))\n",
    "print(name.isnumeric())\n",
    "print(num.isnumeric())\n",
    "print(name[0:8])\n",
    "print(name[0:])\n",
    "print(name[::-1])\n",
    "print(name.isprintable())\n",
    "print(qoute.encode())"
   ]
  },
  {
   "cell_type": "markdown",
   "metadata": {},
   "source": [
    "## 2. String Indexing"
   ]
  },
  {
   "cell_type": "code",
   "execution_count": 60,
   "metadata": {},
   "outputs": [
    {
     "name": "stdout",
     "output_type": "stream",
     "text": [
      "u\n",
      "Mu\n",
      "Muhammad Bila\n",
      "laliB dammahuM\n",
      "-1\n",
      "9\n",
      "9\n"
     ]
    }
   ],
   "source": [
    "name = \"Muhammad Bilal\"\n",
    "print(name[1])\n",
    "print(name[0:2])\n",
    "print(name[0:-1])\n",
    "print(name[::-1])\n",
    "print(name.find(\"-1\"))\n",
    "print(name.find(\"Bilal\"))\n",
    "print(name.index(\"Bilal\"))\n"
   ]
  },
  {
   "cell_type": "markdown",
   "metadata": {},
   "source": [
    "## 3. Slicing"
   ]
  },
  {
   "cell_type": "code",
   "execution_count": 61,
   "metadata": {},
   "outputs": [
    {
     "name": "stdout",
     "output_type": "stream",
     "text": [
      "u\n",
      "Mu\n",
      "Muhammad Bila\n",
      "laliB dammahuM\n"
     ]
    }
   ],
   "source": [
    "name = \"Muhammad Bilal\"\n",
    "print(name[1])\n",
    "print(name[0:2])\n",
    "print(name[0:-1])\n",
    "print(name[::-1])"
   ]
  },
  {
   "cell_type": "code",
   "execution_count": null,
   "metadata": {},
   "outputs": [],
   "source": []
  }
 ],
 "metadata": {
  "kernelspec": {
   "display_name": "Python 3",
   "language": "python",
   "name": "python3"
  },
  "language_info": {
   "codemirror_mode": {
    "name": "ipython",
    "version": 3
   },
   "file_extension": ".py",
   "mimetype": "text/x-python",
   "name": "python",
   "nbconvert_exporter": "python",
   "pygments_lexer": "ipython3",
   "version": "3.6.5"
  }
 },
 "nbformat": 4,
 "nbformat_minor": 2
}
