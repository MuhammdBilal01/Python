{
 "cells": [
  {
   "cell_type": "markdown",
   "metadata": {},
   "source": [
    "# Question 1"
   ]
  },
  {
   "cell_type": "code",
   "execution_count": 2,
   "metadata": {},
   "outputs": [
    {
     "name": "stdout",
     "output_type": "stream",
     "text": [
      "Electronic Product Details:\n",
      "Name: Mobile\n",
      "Price: 60000\n",
      "Manufacturer: Samsung\n",
      "Brand: Galaxy S Series\n",
      "Model: S8\n",
      "\n",
      "Clothing Product Details:\n",
      "Name: Tees\n",
      "Price: 3500\n",
      "Manufacturer: Levi's\n",
      "Size: M\n",
      "Material: Cotton\n",
      "\n",
      "Grocery Product Details:\n",
      "Name: Bread\n",
      "Price: 180\n",
      "Manufacturer: Rehmat-e-Shereen\n",
      "Expiry Date: 2024-06-27\n",
      "Quantity: 1\n"
     ]
    }
   ],
   "source": [
    "class Product:\n",
    "    def __init__(self, name, price, manufacturer):\n",
    "        self.name = name\n",
    "        self.price = price\n",
    "        self.manufacturer = manufacturer\n",
    "\n",
    "    def display_details(self):\n",
    "        print(\"Name:\",self.name)\n",
    "        print(\"Price:\",self.price)\n",
    "        print(\"Manufacturer:\", self.manufacturer)\n",
    "\n",
    "class ElectronicProduct(Product):\n",
    "    def __init__(self, name, price, manufacturer, brand, model):\n",
    "        super().__init__(name, price, manufacturer)\n",
    "        self.brand = brand\n",
    "        self.model = model\n",
    "\n",
    "    def display_details(self):\n",
    "        super().display_details()\n",
    "        print(\"Brand:\",self.brand)\n",
    "        print(\"Model:\",self.model)\n",
    "\n",
    "class ClothingProduct(Product):\n",
    "    def __init__(self, name, price, manufacturer, size, material):\n",
    "        super().__init__(name, price, manufacturer)\n",
    "        self.size = size\n",
    "        self.material = material\n",
    "\n",
    "    def display_details(self):\n",
    "        super().display_details()\n",
    "        print(\"Size:\",self.size)\n",
    "        print(\"Material:\",self.material)\n",
    "\n",
    "class GroceryProduct(Product):\n",
    "    def __init__(self, name, price, manufacturer, expiry_date, quantity):\n",
    "        super().__init__(name, price, manufacturer)\n",
    "        self.expiry_date = expiry_date\n",
    "        self.quantity = quantity\n",
    "\n",
    "    def display_details(self):\n",
    "        super().display_details()\n",
    "        print(\"Expiry Date:\",self.expiry_date)\n",
    "        print(\"Quantity:\",self.quantity)\n",
    "\n",
    "electronic_product = ElectronicProduct(\"Mobile\", 60000, \"Samsung\", \"Galaxy S Series\", \"S8\")\n",
    "clothing_product = ClothingProduct(\"Tees\", 3500, \"Levi's\", \"M\", \"Cotton\")\n",
    "grocery_product = GroceryProduct(\"Bread\", 180, \"Rehmat-e-Shereen\", \"2024-06-27\", \"1\")\n",
    "\n",
    "print(\"Electronic Product Details:\")\n",
    "electronic_product.display_details()\n",
    "print(\"\\nClothing Product Details:\")\n",
    "clothing_product.display_details()\n",
    "print(\"\\nGrocery Product Details:\")\n",
    "grocery_product.display_details()\n"
   ]
  },
  {
   "cell_type": "markdown",
   "metadata": {},
   "source": [
    "# Question 2"
   ]
  },
  {
   "cell_type": "code",
   "execution_count": 7,
   "metadata": {},
   "outputs": [
    {
     "name": "stdout",
     "output_type": "stream",
     "text": [
      "Grades sorted in ascending order:\n",
      "Name: Hassan and Grade: 77\n",
      "Name: Mustafa and Grade: 81\n",
      "Name: Umer and Grade: 82\n",
      "Name: Bilal and Grade: 89\n",
      "\n",
      "Grades sorted in descending order:\n",
      "Name: Bilal and Grade: 89\n",
      "Name: Umer and Grade: 82\n",
      "Name: Mustafa and Grade: 81\n",
      "Name: Hassan and Grade: 77\n"
     ]
    }
   ],
   "source": [
    "import numpy as np\n",
    "\n",
    "student_names = np.array([\"Bilal\", \"Hassan\", \"Mustafa\", \"Umer\"])\n",
    "grades = np.array([89, 77, 81, 82])\n",
    "\n",
    "sorted_indices_ascending = np.argsort(grades)\n",
    "sorted_grades_ascending = grades[sorted_indices_ascending]\n",
    "sorted_names_ascending = student_names[sorted_indices_ascending]\n",
    "\n",
    "sorted_indices_descending = np.argsort(grades)[::-1]\n",
    "sorted_grades_descending = grades[sorted_indices_descending]\n",
    "sorted_names_descending = student_names[sorted_indices_descending]\n",
    "\n",
    "print(\"Grades sorted in ascending order:\")\n",
    "for name, grade in zip(sorted_names_ascending, sorted_grades_ascending):\n",
    "    print(\"Name: %s and Grade: %d\" % (name, grade))\n",
    "\n",
    "print(\"\\nGrades sorted in descending order:\")\n",
    "for name, grade in zip(sorted_names_descending, sorted_grades_descending):\n",
    "    print(\"Name: %s and Grade: %d\" % (name, grade))\n"
   ]
  },
  {
   "cell_type": "code",
   "execution_count": null,
   "metadata": {},
   "outputs": [],
   "source": []
  }
 ],
 "metadata": {
  "kernelspec": {
   "display_name": "Python 3",
   "language": "python",
   "name": "python3"
  },
  "language_info": {
   "codemirror_mode": {
    "name": "ipython",
    "version": 3
   },
   "file_extension": ".py",
   "mimetype": "text/x-python",
   "name": "python",
   "nbconvert_exporter": "python",
   "pygments_lexer": "ipython3",
   "version": "3.6.5"
  }
 },
 "nbformat": 4,
 "nbformat_minor": 2
}
