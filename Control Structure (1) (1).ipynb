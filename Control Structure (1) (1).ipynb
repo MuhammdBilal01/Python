{
 "cells": [
  {
   "cell_type": "markdown",
   "metadata": {},
   "source": [
    "# CONDITIONAL STATEMENT"
   ]
  },
  {
   "cell_type": "markdown",
   "metadata": {},
   "source": [
    "## IF ElSE CONDITION "
   ]
  },
  {
   "cell_type": "code",
   "execution_count": 1,
   "metadata": {},
   "outputs": [
    {
     "name": "stdout",
     "output_type": "stream",
     "text": [
      "Eligible\n"
     ]
    }
   ],
   "source": [
    "age = 30\n",
    "if age >25:\n",
    "    print(\"Eligible\")\n",
    "else:\n",
    "    print(\"Not Eligible\")"
   ]
  },
  {
   "cell_type": "code",
   "execution_count": 2,
   "metadata": {},
   "outputs": [
    {
     "name": "stdout",
     "output_type": "stream",
     "text": [
      "Enter today's temperature: 25\n",
      "Not that much hot weather but take care\n"
     ]
    }
   ],
   "source": [
    "temperature = int(input(\"Enter today's temperature: \"))\n",
    "if temperature >= 25 and temperature <= 30:\n",
    "    print(\"Not that much hot weather but take care\")\n",
    "elif temperature >=31 and temperature <=35:\n",
    "    print(\"Much hot weather\")\n",
    "# elif temperature >=36 and temperature <=50:\n",
    "#     print(\"Extreme Hot\")\n",
    "else:\n",
    "    print(\"Not Defined\")"
   ]
  },
  {
   "cell_type": "markdown",
   "metadata": {},
   "source": [
    "### CHAINING COMPARISON"
   ]
  },
  {
   "cell_type": "code",
   "execution_count": 10,
   "metadata": {},
   "outputs": [
    {
     "name": "stdout",
     "output_type": "stream",
     "text": [
      "Enter today's temperature: 35\n",
      "Bohat Bohat Zyada Garmi\n"
     ]
    }
   ],
   "source": [
    "temperature = int(input(\"Enter today's temperature: \"))\n",
    "if 20>= temperature <= 30:\n",
    "    print(\"Moderate temperature\")\n",
    "elif 31>= temperature <= 35:\n",
    "    print(\"Shadeed Garmi\")\n",
    "elif 36>= temperature <= 50:\n",
    "    print(\"Bohat Bohat Zyada Garmi\")\n",
    "else:\n",
    "    print(\"Undefined\")"
   ]
  },
  {
   "cell_type": "markdown",
   "metadata": {},
   "source": [
    "## FOR LOOP"
   ]
  },
  {
   "cell_type": "code",
   "execution_count": 13,
   "metadata": {},
   "outputs": [
    {
     "name": "stdout",
     "output_type": "stream",
     "text": [
      "['Lion', 'Wolf']\n",
      "['elephant', 'Zebra']\n",
      "['Parrot', 'Toccon']\n"
     ]
    }
   ],
   "source": [
    "zoo_animals = [[\"Lion\",\"Wolf\"],[\"elephant\",\"Zebra\"],[\"Parrot\",\"Toccon\"]]\n",
    "for animal in zoo_animals:\n",
    "    print(animal)"
   ]
  },
  {
   "cell_type": "markdown",
   "metadata": {},
   "source": [
    "### BY INDEXING"
   ]
  },
  {
   "cell_type": "code",
   "execution_count": 14,
   "metadata": {},
   "outputs": [
    {
     "name": "stdout",
     "output_type": "stream",
     "text": [
      "Lion\n",
      "Wolf\n"
     ]
    }
   ],
   "source": [
    "zoo_animals = [[\"Lion\",\"Wolf\"],[\"elephant\",\"Zebra\"],[\"Parrot\",\"Toccon\"]]\n",
    "for animal in zoo_animals[0]:\n",
    "    print(animal)"
   ]
  },
  {
   "cell_type": "markdown",
   "metadata": {},
   "source": [
    "## DICTIONARY USING FOR LOOP"
   ]
  },
  {
   "cell_type": "code",
   "execution_count": 17,
   "metadata": {},
   "outputs": [
    {
     "name": "stdout",
     "output_type": "stream",
     "text": [
      "Enter any number: 0312320231\n",
      "zero three one two three two zero two three one \n"
     ]
    }
   ],
   "source": [
    "phone_number=input(\"Enter any number: \")\n",
    "digits={\n",
    "    \"0\": \"zero\",\n",
    "    \"1\":\"one\",\n",
    "    \"2\":\"two\",\n",
    "    \"3\":\"three\",\n",
    "}\n",
    "output =\"\"\n",
    "for digit in phone_number:\n",
    "    output = output+digits.get(digit,digit)+\" \"\n",
    "print(output)"
   ]
  },
  {
   "cell_type": "code",
   "execution_count": 19,
   "metadata": {},
   "outputs": [
    {
     "name": "stdout",
     "output_type": "stream",
     "text": [
      "Enter Your Msg: hi good morning :)\n",
      "hi good morning 😉 \n"
     ]
    }
   ],
   "source": [
    "msg = input(\"Enter Your Msg: \")\n",
    "words= msg.split()\n",
    "emojis ={\n",
    "    \":)\":\"😉\",\n",
    "    \":(\":\"😥\",\n",
    "}\n",
    "output =\"\"\n",
    "for letter in words:\n",
    "    output = output+emojis.get(letter,letter)+\" \"\n",
    "print(output)"
   ]
  },
  {
   "cell_type": "code",
   "execution_count": null,
   "metadata": {},
   "outputs": [],
   "source": []
  }
 ],
 "metadata": {
  "kernelspec": {
   "display_name": "Python 3",
   "language": "python",
   "name": "python3"
  },
  "language_info": {
   "codemirror_mode": {
    "name": "ipython",
    "version": 3
   },
   "file_extension": ".py",
   "mimetype": "text/x-python",
   "name": "python",
   "nbconvert_exporter": "python",
   "pygments_lexer": "ipython3",
   "version": "3.6.5"
  }
 },
 "nbformat": 4,
 "nbformat_minor": 2
}
