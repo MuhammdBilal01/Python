{
 "cells": [
  {
   "cell_type": "markdown",
   "id": "65a3cd7a-8117-4f8c-9b3e-aba74c70209f",
   "metadata": {},
   "source": [
    "# Question 1"
   ]
  },
  {
   "cell_type": "code",
   "execution_count": 36,
   "id": "e918a7fe-a528-420d-9937-e31a43f6204b",
   "metadata": {},
   "outputs": [
    {
     "name": "stdout",
     "output_type": "stream",
     "text": [
      "FUNDRAISER FOR SCHOOL\n",
      "\n",
      "Total Donation: 1960\n",
      "Average Donation: 490.0\n"
     ]
    }
   ],
   "source": [
    "donations=[]                              #empty list \n",
    "total_donations=0                         #variable to store addition of all donations\n",
    "donations.insert(0,360)\n",
    "donations.insert(1,890)\n",
    "donations.insert(2,450)\n",
    "donations.insert(3,260)\n",
    "for i in donation:                        # \"i\" will hold the values of donation[index]\n",
    "    total_donations+=i                    #total_donations = total_donations + donations\n",
    "print(\"FUNDRAISER FOR SCHOOL\")\n",
    "print(\"\\nTotal Donation:\",total_donations)\n",
    "print(\"Average Donation:\", total_donations/len(donations))    #Average of total_donations"
   ]
  },
  {
   "cell_type": "markdown",
   "id": "675614cf-8f0e-44ef-979a-644fb20e0b0e",
   "metadata": {},
   "source": [
    "# Question 2"
   ]
  },
  {
   "cell_type": "code",
   "execution_count": 60,
   "id": "f6713af2-6c5f-453d-a517-7479181d58df",
   "metadata": {},
   "outputs": [
    {
     "name": "stdin",
     "output_type": "stream",
     "text": [
      "Enter Your Age in Integer:  22\n",
      "\n",
      "Enter Your Gender (M for MALE, F for FEMALE):  M\n",
      "\n",
      "Enter Your Martial Status (Y for Married, N for Single):  N\n"
     ]
    },
    {
     "name": "stdout",
     "output_type": "stream",
     "text": [
      "\n",
      "\n",
      "You can work anywhere.\n"
     ]
    }
   ],
   "source": [
    "age = int(input(\"Enter Your Age in Integer: \"))                                           #take age as input from user in integer only\n",
    "gender = input(\"\\nEnter Your Gender (M for MALE, F for FEMALE): \")                        #take gender as input from user\n",
    "marital_status = input(\"\\nEnter Your Martial Status (Y for Married, N for Single): \")     #take marital status as input from user\n",
    "\n",
    "if gender == 'F':\n",
    "    print(\"\\n\\nYou will work in Urban Areas only.\")  #print this line if user is Female\n",
    "elif gender == 'M' and 20 <= age <= 40:\n",
    "    print(\"\\n\\nYou can work anywhere.\")              #print this line if user is male and his age is between 20 and 40\n",
    "elif gender == 'M' and 40 < age <= 60:\n",
    "    print(\"\\n\\nYou will work in Urban Areas only.\")  #print this line if user is male and his age is between 40 and 60\n",
    "else:\n",
    "    print(\"\\n\\nERROR!\")                              #print this line if user is enter wrong details"
   ]
  },
  {
   "cell_type": "markdown",
   "id": "2e3e676f-d3a7-41e2-98b8-249c06f135c6",
   "metadata": {},
   "source": [
    "# Question 3"
   ]
  },
  {
   "cell_type": "code",
   "execution_count": 46,
   "id": "44746731-914b-423d-93c2-156af55cebf8",
   "metadata": {},
   "outputs": [
    {
     "name": "stdout",
     "output_type": "stream",
     "text": [
      "Sophia's Father List:\n",
      " {'Ayesha', 'Nimra', 'Asad'} {'Ayesha', 'Aliyan', 'Iqra', 'Asad'}\n",
      "\n",
      "Guest List After Sophia Removed Duplicates:\n",
      " {'Nimra'} {'Ayesha', 'Aliyan', 'Iqra', 'Asad'}\n",
      "\n",
      "Total Number of Guest to Appear: 5\n",
      "\n",
      "List of All Guest to Appear in Party:\n",
      " {'Ayesha', 'Iqra', 'Asad', 'Nimra', 'Aliyan'}\n"
     ]
    }
   ],
   "source": [
    "guest_1={\"Ayesha\",\"Nimra\",\"Asad\"}\n",
    "guest_2={\"Ayesha\",\"Iqra\",\"Asad\",\"Aliyan\"}\n",
    "\n",
    "print(\"Sophia's Father List:\\n\",guest_1,guest_2) \n",
    "\n",
    "guest_1=guest_1.difference(guest_2)      #remove the same entries of guest_1 and guest_2 set\n",
    "print(\"\\nGuest List After Sophia Removed Duplicates:\\n\",guest_1,guest_2)\n",
    "\n",
    "tota_guest=guest_1.symmetric_difference(guest_2)                #will add all the non-duplicate names in new set\n",
    "print(\"\\nTotal Number of Guest to Appear:\",len(tota_guest))     #print total number of guest\n",
    "\n",
    "print(\"\\nList of All Guest to Appear in Party:\\n\",tota_guest)   #print the new set of all guest"
   ]
  },
  {
   "cell_type": "markdown",
   "id": "0556dcf1-70a7-4078-b010-e3d6e54a0d91",
   "metadata": {},
   "source": [
    "# Question 4"
   ]
  },
  {
   "cell_type": "code",
   "execution_count": 53,
   "id": "ff5b41a1-d109-4cfa-b467-f05427d10c2e",
   "metadata": {},
   "outputs": [
    {
     "name": "stdout",
     "output_type": "stream",
     "text": [
      "TEMPERATURE ALERT SYSTEM!\n",
      "\n"
     ]
    },
    {
     "name": "stdin",
     "output_type": "stream",
     "text": [
      "Enter Temperature in Celsius:  22\n"
     ]
    },
    {
     "name": "stdout",
     "output_type": "stream",
     "text": [
      "\n",
      "\n",
      "Normal Temperature\n"
     ]
    }
   ],
   "source": [
    "print(\"TEMPERATURE ALERT SYSTEM!\\n\")\n",
    "temperature = int(input(\"Enter Temperature in Celsius: \"))   #take temperature as input for user\n",
    "\n",
    "if temperature > 30:\n",
    "    print(\"\\n\\nHigh Temperature Alert!\")      #print this line if temperature is greater than 30 \n",
    "elif temperature >= 20 and temperature <= 30:\n",
    "    print(\"\\n\\nNormal Temperature\")           #print this line if temperature is in between 20 and 30\n",
    "else:\n",
    "    print(\"\\n\\nLow Temperature\")              #print this line if temperature is below 20"
   ]
  },
  {
   "cell_type": "code",
   "execution_count": null,
   "id": "15d1102d-a361-4df4-b15c-d32d5431094f",
   "metadata": {},
   "outputs": [],
   "source": []
  }
 ],
 "metadata": {
  "kernelspec": {
   "display_name": "Python 3 (ipykernel)",
   "language": "python",
   "name": "python3"
  },
  "language_info": {
   "codemirror_mode": {
    "name": "ipython",
    "version": 3
   },
   "file_extension": ".py",
   "mimetype": "text/x-python",
   "name": "python",
   "nbconvert_exporter": "python",
   "pygments_lexer": "ipython3",
   "version": "3.11.7"
  }
 },
 "nbformat": 4,
 "nbformat_minor": 5
}
