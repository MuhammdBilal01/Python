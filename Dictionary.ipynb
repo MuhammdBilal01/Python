{
 "cells": [
  {
   "cell_type": "markdown",
   "metadata": {},
   "source": [
    "# 1. Dictionary"
   ]
  },
  {
   "cell_type": "code",
   "execution_count": 4,
   "metadata": {},
   "outputs": [
    {
     "name": "stdout",
     "output_type": "stream",
     "text": [
      "<class 'dict'>\n",
      "{'K1': 12, 'K2': 13}\n",
      "dict_values([12, 13])\n",
      "dict_keys(['K1', 'K2'])\n"
     ]
    }
   ],
   "source": [
    "d1 = {\n",
    "    \"K1\":12,\n",
    "    \"K2\":13\n",
    "}\n",
    "print(type(d1))\n",
    "print(d1)\n",
    "print(d1.values())\n",
    "print(d1.keys())"
   ]
  },
  {
   "cell_type": "markdown",
   "metadata": {},
   "source": [
    "## 1.1. Nested Dicionary Type 1"
   ]
  },
  {
   "cell_type": "code",
   "execution_count": 6,
   "metadata": {},
   "outputs": [
    {
     "name": "stdout",
     "output_type": "stream",
     "text": [
      "{'Name': 'Muhammad Bilal', 'Age': 22, 'ID': 58595, 'd3': {'Name': 'Hassan', 'Age': 22}}\n"
     ]
    }
   ],
   "source": [
    "d2 = {\n",
    "    \"Name\" : \"Muhammad Bilal\",\n",
    "    \"Age\" : 22,\n",
    "    \"ID\" : 58595,\n",
    "    \"d3\" : {\n",
    "        \"Name\" : \"Hassan\",\n",
    "        \"Age\" : 22\n",
    "    }\n",
    "}\n",
    "\n",
    "print(d2)\n"
   ]
  },
  {
   "cell_type": "markdown",
   "metadata": {},
   "source": [
    "## 1.1.1. Nested Dictionary Type 2"
   ]
  },
  {
   "cell_type": "code",
   "execution_count": 10,
   "metadata": {},
   "outputs": [
    {
     "name": "stdout",
     "output_type": "stream",
     "text": [
      "{'sd1': {'Name': 'Muhammad Bilal', 'Age': 22}, 'std2': {'Name': 'Muhammad Hassan Sajid', 'Age': 22}}\n"
     ]
    }
   ],
   "source": [
    "std1 = {\n",
    "    \"Name\" : \"Muhammad Bilal\",\n",
    "    \"Age\" : 22\n",
    "}\n",
    "\n",
    "std2 = {\n",
    "    \"Name\" : \"Muhammad Hassan Sajid\",\n",
    "    \"Age\" : 22\n",
    "}\n",
    "\n",
    "student_details = {\n",
    "    \"sd1\" : std1,\n",
    "    \"std2\" : std2\n",
    "}\n",
    "print(student_details)\n"
   ]
  },
  {
   "cell_type": "markdown",
   "metadata": {},
   "source": [
    "## 1.2. Add and Update In Dictionary"
   ]
  },
  {
   "cell_type": "code",
   "execution_count": 15,
   "metadata": {},
   "outputs": [
    {
     "name": "stdout",
     "output_type": "stream",
     "text": [
      "{'d1': {1: 2, 3: 4}, 'd2': {5: 6, 7: 8}, 'd3': {9: 10, 11: 12}}\n",
      "{1: 2, 3: 4, 'K3': 14}\n",
      "{1: 2, 3: 4, 'K3': 14, 'K4': 15}\n",
      "{1: 2, 3: 4, 'K3': 'NAME', 'K4': 15}\n"
     ]
    }
   ],
   "source": [
    "d1 = {1:2 , 3:4}\n",
    "d2 = {5:6 , 7:8}\n",
    "d3 = {9:10 , 11:12}\n",
    "\n",
    "dict_all = {\n",
    "    \"d1\" : d1,\n",
    "    \"d2\" : d2,\n",
    "    \"d3\" : d3\n",
    "}\n",
    "print(dict_all)\n",
    "d1[\"K3\"]=14\n",
    "print(d1)\n",
    "\n",
    "d1.update({\"K4\":15})\n",
    "print(d1)\n",
    "\n",
    "d1[\"K3\"]=\"NAME\"\n",
    "print(d1)"
   ]
  },
  {
   "cell_type": "code",
   "execution_count": null,
   "metadata": {},
   "outputs": [],
   "source": []
  }
 ],
 "metadata": {
  "kernelspec": {
   "display_name": "Python 3",
   "language": "python",
   "name": "python3"
  },
  "language_info": {
   "codemirror_mode": {
    "name": "ipython",
    "version": 3
   },
   "file_extension": ".py",
   "mimetype": "text/x-python",
   "name": "python",
   "nbconvert_exporter": "python",
   "pygments_lexer": "ipython3",
   "version": "3.6.5"
  }
 },
 "nbformat": 4,
 "nbformat_minor": 2
}
