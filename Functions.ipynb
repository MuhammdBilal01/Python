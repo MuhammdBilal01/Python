{
 "cells": [
  {
   "cell_type": "markdown",
   "metadata": {},
   "source": [
    "# 1. Functions"
   ]
  },
  {
   "cell_type": "markdown",
   "metadata": {},
   "source": [
    "## 1.1. Create Function"
   ]
  },
  {
   "cell_type": "code",
   "execution_count": 2,
   "metadata": {},
   "outputs": [
    {
     "name": "stdout",
     "output_type": "stream",
     "text": [
      "Hello\n"
     ]
    }
   ],
   "source": [
    "def myGreetings():\n",
    "    print(\"Hello\")\n",
    "\n",
    "myGreetings()"
   ]
  },
  {
   "cell_type": "markdown",
   "metadata": {},
   "source": [
    "## 1.2. Function With Parameter"
   ]
  },
  {
   "cell_type": "code",
   "execution_count": 4,
   "metadata": {},
   "outputs": [
    {
     "name": "stdout",
     "output_type": "stream",
     "text": [
      "4\n"
     ]
    }
   ],
   "source": [
    "def add(a,b):\n",
    "    total = a + b\n",
    "    print(total)\n",
    "\n",
    "add(1,3)"
   ]
  },
  {
   "cell_type": "code",
   "execution_count": 8,
   "metadata": {},
   "outputs": [
    {
     "name": "stdout",
     "output_type": "stream",
     "text": [
      "Hello Bilal!\n"
     ]
    }
   ],
   "source": [
    "def greetings(greet = \"Hello\"):\n",
    "    print(greet,\"Bilal!\")\n",
    "\n",
    "greetings()"
   ]
  },
  {
   "cell_type": "code",
   "execution_count": 7,
   "metadata": {},
   "outputs": [
    {
     "name": "stdout",
     "output_type": "stream",
     "text": [
      "Area Of Circle: 78.55\n"
     ]
    }
   ],
   "source": [
    "def areaOfCircle(radius):\n",
    "    print(\"Area Of Circle:\",(radius*radius*3.142))\n",
    "\n",
    "areaOfCircle(5)"
   ]
  },
  {
   "cell_type": "code",
   "execution_count": 12,
   "metadata": {},
   "outputs": [
    {
     "name": "stdout",
     "output_type": "stream",
     "text": [
      "Enter Temperature:32\n",
      "Celcius To Farehiet: 89.6\n"
     ]
    }
   ],
   "source": [
    "temp = int(input(\"Enter Temperature:\"))\n",
    "\n",
    "def celciusToFarhenhiet(temp):\n",
    "    print(\"Celcius To Farehiet:\",(9/5)*temp+32)\n",
    "    \n",
    "def FarhenhietToCelcius(temp):\n",
    "    print(\"Celcius To Farehiet:\",(5/9)*temp-32)\n",
    "    \n",
    "celciusToFarhenhiet(temp)"
   ]
  },
  {
   "cell_type": "code",
   "execution_count": null,
   "metadata": {},
   "outputs": [],
   "source": [
    "std_marks = []\n",
    "i=0\n",
    "\n",
    "while (i < 5):\n",
    "    mark = input(\"Enter Marks:\")\n",
    "    i+=1\n",
    "    std_marks.append(mark)\n"
   ]
  },
  {
   "cell_type": "markdown",
   "metadata": {},
   "source": [
    "## 1.3. Lambda In Python"
   ]
  },
  {
   "cell_type": "code",
   "execution_count": 1,
   "metadata": {},
   "outputs": [
    {
     "name": "stdout",
     "output_type": "stream",
     "text": [
      "4\n"
     ]
    }
   ],
   "source": [
    "# Defining a lambda function to double the input\n",
    "x = lambda a: a * 2\n",
    "\n",
    "# Calling the lambda function\n",
    "print(x(2))"
   ]
  },
  {
   "cell_type": "code",
   "execution_count": null,
   "metadata": {},
   "outputs": [],
   "source": []
  }
 ],
 "metadata": {
  "kernelspec": {
   "display_name": "Python 3",
   "language": "python",
   "name": "python3"
  },
  "language_info": {
   "codemirror_mode": {
    "name": "ipython",
    "version": 3
   },
   "file_extension": ".py",
   "mimetype": "text/x-python",
   "name": "python",
   "nbconvert_exporter": "python",
   "pygments_lexer": "ipython3",
   "version": "3.6.5"
  }
 },
 "nbformat": 4,
 "nbformat_minor": 2
}
