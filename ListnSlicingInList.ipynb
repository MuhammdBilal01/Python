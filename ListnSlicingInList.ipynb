{
 "cells": [
  {
   "cell_type": "markdown",
   "metadata": {},
   "source": [
    "# Lists"
   ]
  },
  {
   "cell_type": "code",
   "execution_count": 6,
   "metadata": {},
   "outputs": [
    {
     "name": "stdout",
     "output_type": "stream",
     "text": [
      "ID: 12 , Name: Arham , Salary: 30000 \n",
      "\n",
      "Name Of Department: IT Department , Dep. ID: 11 , Dep.Phone No# 3178956\n",
      "\n",
      "Name Of Department: Computer Science Department , Dep. ID: 10 , Dep.Phone No# 3272563\n",
      "\n",
      "HOD Name: Adnan , HOD ID: 14\n",
      "\n",
      "HOD Name: Azhar , HOD ID: 13\n",
      "<class 'list'>\n"
     ]
    }
   ],
   "source": [
    "employee = [12,\"Arham\",30000]\n",
    "dep_IT = [11,\"IT Department\", 3178956]\n",
    "dep_CS = [10,\"Computer Science Department\", 3272563]\n",
    "\n",
    "hod_IT = [13,\"Azhar\"]\n",
    "hod_CS = [14, \"Adnan\"]\n",
    "\n",
    "print(\"ID: %d , Name: %s , Salary: %d \" %(employee[0],employee[1],employee[2]))\n",
    "print(\"\\nName Of Department: %s , Dep. ID: %d , Dep.Phone No# %d\" %(dep_IT[1],dep_IT[0],dep_IT[2]))\n",
    "print(\"\\nName Of Department: %s , Dep. ID: %d , Dep.Phone No# %d\" %(dep_CS[1],dep_CS[0],dep_CS[2]))\n",
    "print(\"\\nHOD Name: %s , HOD ID: %d\" %(hod_CS[1],hod_CS[0]))\n",
    "print(\"\\nHOD Name: %s , HOD ID: %d\" %(hod_IT[1],hod_IT[0]))\n",
    "\n",
    "print(type(employee))\n"
   ]
  },
  {
   "cell_type": "code",
   "execution_count": 10,
   "metadata": {},
   "outputs": [
    {
     "name": "stdout",
     "output_type": "stream",
     "text": [
      "False\n"
     ]
    }
   ],
   "source": [
    "list1 = [1,2,3,4,5]\n",
    "list2 = [5,4,3,2,1]\n",
    "print(list1==list2)"
   ]
  },
  {
   "cell_type": "markdown",
   "metadata": {},
   "source": [
    "# Slicing In List"
   ]
  },
  {
   "cell_type": "code",
   "execution_count": 38,
   "metadata": {},
   "outputs": [
    {
     "name": "stdout",
     "output_type": "stream",
     "text": [
      "10\n",
      "[2, 4, 6, 8, 10]\n",
      "[1, 3, 5, 7, 9]\n",
      "[4, 5, 6, 7, 8]\n"
     ]
    }
   ],
   "source": [
    "list3 = [1,2,3,4,5,6,7,8,9,10]\n",
    "print(list3[-1])\n",
    "print(list3[1::2])\n",
    "print(list3[0::2])\n",
    "print(list3[-7:-2])"
   ]
  },
  {
   "cell_type": "code",
   "execution_count": null,
   "metadata": {},
   "outputs": [],
   "source": []
  }
 ],
 "metadata": {
  "kernelspec": {
   "display_name": "Python 3",
   "language": "python",
   "name": "python3"
  },
  "language_info": {
   "codemirror_mode": {
    "name": "ipython",
    "version": 3
   },
   "file_extension": ".py",
   "mimetype": "text/x-python",
   "name": "python",
   "nbconvert_exporter": "python",
   "pygments_lexer": "ipython3",
   "version": "3.6.5"
  }
 },
 "nbformat": 4,
 "nbformat_minor": 2
}
