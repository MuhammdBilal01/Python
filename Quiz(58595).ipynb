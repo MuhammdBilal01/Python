{
 "cells": [
  {
   "cell_type": "markdown",
   "id": "df9c4842-74a3-4a0f-bfe4-2365b63a6a0f",
   "metadata": {},
   "source": [
    "# Question 1"
   ]
  },
  {
   "cell_type": "code",
   "execution_count": 11,
   "id": "e414d6e9-8100-4529-bb67-d1e51ffa30f2",
   "metadata": {},
   "outputs": [
    {
     "name": "stdout",
     "output_type": "stream",
     "text": [
      "Name: Muhammad Bilal \n",
      "Course Name: Python\n"
     ]
    }
   ],
   "source": [
    "student = [58595, \"Muhammad Bilal\", \"Python\", 22 ]\n",
    "student.append(\"42101-19597631\")\n",
    "\n",
    "print(\"Name: %s \\nCourse Name: %s\" %(student[1], student[2]))"
   ]
  },
  {
   "cell_type": "markdown",
   "id": "fe6c2e18-8f30-437e-b423-eae62e2d65e7",
   "metadata": {},
   "source": [
    "# Question 2"
   ]
  },
  {
   "cell_type": "code",
   "execution_count": 10,
   "id": "ceed267e-c33e-4381-8be0-a609cb8a9cd0",
   "metadata": {},
   "outputs": [
    {
     "name": "stdout",
     "output_type": "stream",
     "text": [
      "[]\n",
      "[58595, 'Muhammad Bilal', 'Python', 22, 'XYZ st, DHA Phase 2, Karachi.']\n"
     ]
    }
   ],
   "source": [
    "student = [58595, \"Muhammad Bilal\", \"Python\", 22 ]\n",
    "std_marks = [88, 56, 78, 89]\n",
    "std_marks.remove(56)\n",
    "std_marks.append(79)\n",
    "student.append(\"XYZ st, DHA Phase 2, Karachi.\")\n",
    "std_marks.clear()\n",
    "\n",
    "print(std_marks) #will print nothing. Because student_marks list is clear.\n",
    "print(student) #will print whole student list with newly add item Address."
   ]
  },
  {
   "cell_type": "code",
   "execution_count": null,
   "id": "8ae335da-5a09-4952-95d9-58142f2ddaee",
   "metadata": {},
   "outputs": [],
   "source": []
  }
 ],
 "metadata": {
  "kernelspec": {
   "display_name": "Python 3 (ipykernel)",
   "language": "python",
   "name": "python3"
  },
  "language_info": {
   "codemirror_mode": {
    "name": "ipython",
    "version": 3
   },
   "file_extension": ".py",
   "mimetype": "text/x-python",
   "name": "python",
   "nbconvert_exporter": "python",
   "pygments_lexer": "ipython3",
   "version": "3.11.7"
  }
 },
 "nbformat": 4,
 "nbformat_minor": 5
}
